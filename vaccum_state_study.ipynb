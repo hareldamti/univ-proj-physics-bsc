{
 "cells": [
  {
   "cell_type": "code",
   "execution_count": null,
   "id": "2b1730ac",
   "metadata": {},
   "outputs": [],
   "source": [
    "import matplotlib.pyplot as plt\n",
    "import numpy as np\n",
    "import scipy as sp\n",
    "from matplotlib.animation import FuncAnimation, FFMpegWriter\n",
    "from matplotlib import rc\n",
    "from matplotlib.colors import LinearSegmentedColormap as colormap\n",
    "from IPython.display import HTML\n",
    "import functions as f\n",
    "import os, sys\n",
    "sys.path.append(os.path.relpath(\"./src\"))\n",
    "from kitaev_chain import kitaev_chain_model, quench_simulation_bdg, quench_simulation_tfim\n",
    "from utils import to_n, s0, sx, sy, sz, power_set, tensor_product, canon_eigen, expm, U, c, zero"
   ]
  },
  {
   "cell_type": "code",
   "execution_count": null,
   "id": "9ba398df",
   "metadata": {},
   "outputs": [],
   "source": [
    "n = 5\n",
    "k = 0.01\n",
    "H0 = kitaev_chain_model(n, k, 1 - k, 1 - k)\n",
    "#H0 = kitaev_chain_model(n, 1, 2, 3)\n",
    "H0.bdg_eigen()"
   ]
  },
  {
   "cell_type": "markdown",
   "id": "9bf465aa",
   "metadata": {},
   "source": [
    "# Validate $H_{tfim}$ = $\\sum_{i}{E_{i}\\psi_{i}^{\\dagger}\\psi_{i}}$\n",
    "\n",
    "#### Results:\n",
    "* Needed to scale $H_{tfim}$ by 0.5 and zero out the ground energy\n",
    "* JW transformation on the Hamiltonian before the anticommutation splits gets the same energy spectrum but with different eigenvectors"
   ]
  },
  {
   "cell_type": "code",
   "execution_count": null,
   "id": "2af16c89",
   "metadata": {},
   "outputs": [],
   "source": [
    "H_bdg = H0.bdg_hamiltonian()\n",
    "\n",
    "H_tfim_bdg_recon = sum([\n",
    "    sum([  H_bdg[i][j] * c(i, n, True) @ c(j, n)\n",
    "         + H_bdg[i + n][j] * c(i, n) @ c(j, n)\n",
    "         + H_bdg[i][j + n] * c(i, n, True) @ c(j, n, True)\n",
    "         + H_bdg[i + n][j + n] * c(i, n) @ c(j, n, True)\n",
    "         for j in range(n)])\n",
    "     for i in range(n)])\n",
    "# same as:\n",
    "H_tfim_bdg =  H0.tfim_hamiltonian_JW_on_bdg()\n",
    "\n",
    "#H_tfim_orig = H0.tfim_hamiltonian_JW_on_orig()\n",
    "H_tfim_orig = H0.tfim_hamiltonian_JW_on_bdg_before_split()\n",
    "\n",
    "H_tfim_recon = sum([H0.bdg_evals_sorted[i] * (H0.psi(i, dagger=True) @ H0.psi(i)) for i in range(n)])"
   ]
  },
  {
   "cell_type": "code",
   "execution_count": null,
   "id": "36db8137",
   "metadata": {},
   "outputs": [],
   "source": [
    "def orthopart(v, Av):\n",
    "    return Av - v * np.dot(Av.T, v) / np.linalg.norm(v)\n",
    "\n",
    "evals1, evecs1 = np.linalg.eigh(H_tfim_orig)\n",
    "evals2, evecs2 = np.linalg.eigh(H_tfim_recon)\n",
    "H_tfim_orig = 0.5 * (H0.tfim_hamiltonian_JW_on_bdg_before_split() - evals1[0] * np.eye(H0.N))\n",
    "\n",
    "#plt.plot([np.dot(e, H_tfim_recon @ e) for e in evecs1.T], label='bdg')\n",
    "plt.plot(evals1, label='tfim')\n",
    "plt.plot(evals2, label='recon')\n",
    "plt.legend()\n",
    "plt.show()"
   ]
  },
  {
   "cell_type": "code",
   "execution_count": null,
   "id": "c729e591",
   "metadata": {},
   "outputs": [],
   "source": [
    "H_tfim = H_tfim_orig\n",
    "\n",
    "H0.tfim_vac_from_intersections()\n",
    "\n",
    "f = lambda A: expm(1j * A, 100)\n",
    "\n",
    "Tfim_Matrix_Elements = np.array([\n",
    "    [(H0.vac.T.conj() @ H0.psi(i, True).T.conj() @ f(H_tfim) @ H0.psi(j, True) @ H0.vac)[0][0] for j in range(n)] for i in range(n)\n",
    "])\n",
    "\n",
    "BdG_Matrix_Elements = np.array([\n",
    "    [(H0.bdg_evecs_sorted[:,i].T.conj() @ f(H_bdg) @ H0.bdg_evecs_sorted[:,j]) for j in range(n)] for i in range(n)\n",
    "])\n",
    "\n",
    "\n",
    "if np.allclose(Tfim_Matrix_Elements, BdG_Matrix_Elements):\n",
    "    print(\"Parity between representations\")\n",
    "else:\n",
    "    plt.imshow(np.real(Tfim_Matrix_Elements - BdG_Matrix_Elements))\n",
    "    plt.title(\"Comparison of matrix elements $\\\\langle\\\\psi_{i}|H|\\\\psi_{j}\\\\rangle$\")\n",
    "    plt.colorbar()\n",
    "    plt.show()"
   ]
  },
  {
   "cell_type": "markdown",
   "id": "47965c13",
   "metadata": {},
   "source": [
    "## Vaccum state from G / Intersections\n",
    "\n",
    "### Test: $\\^{\\psi}^{\\dagger}_{i}\\^{\\psi}_{i} \\^{\\psi}^{\\dagger}_{j}\\ket{vac} = \\delta^{j}_{i}\\^{\\psi}^{\\dagger}_{j}\\ket{vac}$\n",
    "\n",
    "### Test: $\\^H_{tfim}\\^{\\psi}^{\\dagger}_{j}\\ket{vac} = 2E_{j}\\^{\\psi}^{\\dagger}_{j}\\ket{vac}$"
   ]
  },
  {
   "cell_type": "code",
   "execution_count": null,
   "id": "bb736acb",
   "metadata": {},
   "outputs": [],
   "source": [
    "H0.tfim_vac_from_intersections()\n",
    "id = np.zeros((n, n)).astype(np.float64)\n",
    "for i in range(n):\n",
    "    for j in range(n):\n",
    "        a = H0.psi(i, dagger=True) @ H0.psi(i) @ H0.psi(j, dagger=True) @ H0.vac\n",
    "        id[i, j] = np.linalg.norm(a)\n",
    "plt.imshow(np.abs(id), cmap='gray')\n",
    "plt.colorbar()\n",
    "plt.title(\"Creators and anhilators orthogonality\")\n",
    "plt.show()\n",
    "\n",
    "id = np.zeros((n, n)).astype(np.float64)\n",
    "for i in range(n):\n",
    "    for j in range(n):\n",
    "        a = H0.psi(j, dagger=True) @ H0.psi(i)\n",
    "        b = H0.psi(i) @ H0.psi(j, dagger=True)\n",
    "        id[i, j] = np.linalg.norm(a + b) / n\n",
    "plt.imshow(np.abs(id), cmap='gray')\n",
    "plt.colorbar()\n",
    "plt.title(\"$\\|\\{\\psi_{i},\\psi_{j}^{\\dagger}\\}\\|$\")\n",
    "plt.show()\n"
   ]
  },
  {
   "cell_type": "code",
   "execution_count": null,
   "id": "f8de7524",
   "metadata": {},
   "outputs": [],
   "source": [
    "subsets = [[i for i in range(n) if l[i]] for l in power_set(n)]\n",
    "states = []\n",
    "for subset in subsets:\n",
    "    psi_ = H0.vac\n",
    "    for i in subset:\n",
    "        psi_ = H0.psi(i, dagger=True) @ psi_\n",
    "    states.append(psi_)\n",
    "evals_comp_from_vac = [np.linalg.norm(psi_.T @ H_tfim @ psi_) for psi_ in states]\n",
    "evals_comp, evecs_comp = np.linalg.eigh(H_tfim)\n",
    "plt.plot(sorted(evals_comp_from_vac), '*', label='from vac')\n",
    "plt.plot((sorted(evals_comp) - min(evals_comp) + .05), '*', label='from tfim energies')\n",
    "plt.legend()\n",
    "plt.title(\"TFIM energies from creators\")\n",
    "plt.show()\n",
    "\n",
    "psi_vac = [H0.psi(i, dagger=True) @ H0.vac for i in range(n)]\n",
    "evals_vac = np.array([np.abs(psi_.T @ H_tfim @ psi_)[0, 0] for psi_ in psi_vac])\n",
    "plt.plot((evals_vac + .05), '*', label='from vac')\n",
    "plt.plot(H0.bdg_evals_sorted[:n], '*', label='from bdg energies')\n",
    "plt.legend()\n",
    "plt.title(\"BdG energies from creators\")\n",
    "plt.show()\n",
    "\n",
    "ortho_vac = np.array([np.linalg.norm(orthopart(psi_, H_tfim @ psi_)) for psi_ in psi_vac])\n",
    "plt.plot(ortho_vac, label='norm')\n",
    "plt.legend()\n",
    "plt.title(\"H@eigen_vec ortho part\")\n",
    "plt.show()\n",
    "\n"
   ]
  },
  {
   "cell_type": "code",
   "execution_count": null,
   "id": "ab72903a",
   "metadata": {},
   "outputs": [],
   "source": [
    "i = 0\n",
    "psi_ = H0.psi(i, dagger=True) @ H0.vac\n",
    "H0_psi_ = (H_tfim_orig) @ psi_\n",
    "plt.plot(H0.bdg_evals_sorted[i] * psi_, label=\"Target\")\n",
    "plt.plot(H0_psi_, label=\"Actual\")\n",
    "plt.legend()"
   ]
  },
  {
   "cell_type": "markdown",
   "id": "40a1e39a",
   "metadata": {},
   "source": [
    "# Loschmidt amplitude"
   ]
  },
  {
   "cell_type": "code",
   "execution_count": null,
   "id": "f961b81b",
   "metadata": {},
   "outputs": [],
   "source": [
    "n = 6\n",
    "eigenvalue_index = range(n)\n",
    "k = 1e-1\n",
    "\n",
    "mu = np.zeros(n) + k\n",
    "mu[0] = mu[-1] = 1e1\n",
    "H = kitaev_chain_model(n, k, 1 - k, 1 - k)\n",
    "H1 = kitaev_chain_model(n, mu, 1 - k, 1 - k)\n",
    "\n",
    "H.bdg_eigen()\n",
    "H.tfim_vac_from_intersections()\n",
    "U_bdg = U(H1.bdg_hamiltonian())\n",
    "\n",
    "H_tfim = H1.tfim_hamiltonian_JW_on_bdg_before_split()\n",
    "tfim_energies, _ = np.linalg.eigh(H_tfim)\n",
    "U_tfim = U(0.5 * (H_tfim - tfim_energies[0] * np.eye(H1.N)))\n",
    "\n",
    "dt = 0.02\n",
    "duration = 5\n",
    "t_range = np.arange(0, duration, dt)\n",
    "\n",
    "L_bdg = np.array([np.linalg.det(H.bdg_evecs_sorted[:, eigenvalue_index].T.conj() @ U_bdg(t) @ H.bdg_evecs_sorted[:, eigenvalue_index]) for t in t_range])\n",
    "\n",
    "L_initial = np.hstack([H.psi(i, dagger=True) @ H.vac for i in eigenvalue_index])\n",
    "L_tfim = np.array([np.linalg.det(L_initial.T.conj() @ U_tfim(t) @ L_initial) for t in t_range])\n",
    "\n",
    "print(np.allclose(np.abs(L_bdg) ** ((n - 2) / 2), np.abs(L_tfim)))\n",
    "\n",
    "plt.figure(figsize=(12,5))\n",
    "plt.plot(np.abs(L_bdg ** ((n - 2) / 2)), label=\"BdG Loschmidt\")\n",
    "plt.plot(np.abs(L_tfim), label=\"TFIM Loschmidt\")\n",
    "plt.ylim(-.1, 1.1)\n",
    "plt.title(\"Loschmidt Comparison\")\n",
    "plt.legend()\n",
    "plt.show()\n",
    "\n"
   ]
  }
 ],
 "metadata": {
  "kernelspec": {
   "display_name": ".venv",
   "language": "python",
   "name": "python3"
  },
  "language_info": {
   "codemirror_mode": {
    "name": "ipython",
    "version": 3
   },
   "file_extension": ".py",
   "mimetype": "text/x-python",
   "name": "python",
   "nbconvert_exporter": "python",
   "pygments_lexer": "ipython3",
   "version": "3.12.10"
  }
 },
 "nbformat": 4,
 "nbformat_minor": 5
}
