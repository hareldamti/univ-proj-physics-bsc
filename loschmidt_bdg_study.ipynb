{
 "cells": [
  {
   "cell_type": "code",
   "execution_count": null,
   "id": "72398bcb",
   "metadata": {},
   "outputs": [],
   "source": [
    "import matplotlib.pyplot as plt\n",
    "import numpy as np\n",
    "import scipy as sp\n",
    "from matplotlib.animation import FuncAnimation, FFMpegWriter\n",
    "from matplotlib import rc\n",
    "from matplotlib.colors import LinearSegmentedColormap as colormap\n",
    "from IPython.display import HTML\n",
    "import math\n",
    "import os, sys\n",
    "sys.path.append(os.path.relpath(\"./src\"))\n",
    "from kitaev_chain import kitaev_chain_model, quench_simulation\n",
    "FFwriter=FFMpegWriter(fps=30, extra_args=['-vcodec', 'libx264'])\n",
    "from utils import to_n, s0, sx, sy, sz, maj_ordered, tensor_product, canon_eigen, expm, U, c, zero, LOSCHMIDT_BDG, LOSCHMIDT_TFIM, STATES"
   ]
  },
  {
   "cell_type": "code",
   "execution_count": null,
   "id": "fe5307d0",
   "metadata": {},
   "outputs": [],
   "source": [
    "n = 8\n",
    "eigenvalue_index = range(n)\n",
    "k = 1e-1\n",
    "\n",
    "mu = np.zeros(n) + k\n",
    "mu[0] = mu[-1] = 1e1\n",
    "H0 = kitaev_chain_model(n, k, 1 - k, 1 - k)\n",
    "H = kitaev_chain_model(n, mu, 1 - k, 1 - k)\n",
    "sim = quench_simulation(H0, H)"
   ]
  },
  {
   "cell_type": "code",
   "execution_count": null,
   "id": "239713d0",
   "metadata": {},
   "outputs": [],
   "source": [
    "sim.fill_sim(0.02, 3)"
   ]
  },
  {
   "cell_type": "code",
   "execution_count": null,
   "id": "43d28694",
   "metadata": {},
   "outputs": [],
   "source": [
    "plt.plot(sim.simulation_data[LOSCHMIDT_BDG])\n",
    "plt.plot(sim.simulation_data[LOSCHMIDT_TFIM] ** (2.0 / (n - 2)))"
   ]
  },
  {
   "cell_type": "code",
   "execution_count": null,
   "id": "6bd2c229",
   "metadata": {},
   "outputs": [],
   "source": [
    "fig, (ax1, ax2) = plt.subplots(1, 2, gridspec_kw={'width_ratios': [8, 1]})\n",
    "fig.set_size_inches((12, 5))\n",
    "plots = [None for _ in range(2 * n)]\n",
    "\n",
    "ax1.set_title(\"BdG states composition\")\n",
    "ax1.set_xlabel(\"$\\\\gamma_{i}$\")\n",
    "ax1.set_xlim(-.5, 2 * n - .5)\n",
    "ax1.set_xticks(range(2 * n))\n",
    "\n",
    "ax2.set_title(\"Loschmidt\\nAmplitude\")\n",
    "ax2.set_ylim(0,1.19)\n",
    "\n",
    "\n",
    "for i, (energy, state) in enumerate(filter(lambda pair: True, zip(sim.H0.bdg_evals_sorted, sim.simulation_data[STATES][0].T))):\n",
    "    plots[i] = ax1.plot(range(2 * n), np.absolute(maj_ordered(state)) ** 2, color=(1 if energy > 1e-4 else 0, 0, 1 if energy < -1e-4 else 0, math.exp(-(energy * 1.5) ** 2)), label={f\"{i} - {energy:.3f}\"})[0]\n",
    "l_tfim = ax2.bar(0.25, sim.simulation_data[LOSCHMIDT_TFIM][0], 0.5, label='TFIM')\n",
    "l_bdg = ax2.bar(0.75, sim.simulation_data[LOSCHMIDT_BDG][0], 0.5, label='BdG')\n",
    "ax2.legend()\n",
    "\n",
    "def init(): return *plots, *l_tfim.patches, *l_bdg.patches\n",
    "\n",
    "def animate(frame):\n",
    "    for i in range(2 * n):\n",
    "        plots[i].set_data(range(2 * n), np.absolute(maj_ordered(sim.simulation_data[STATES][frame][:, i]) ** 2))\n",
    "    l_tfim.patches[0].set_height(sim.simulation_data[LOSCHMIDT_TFIM][frame])\n",
    "    l_bdg.patches[0].set_height(sim.simulation_data[LOSCHMIDT_BDG][frame])\n",
    "    return *plots, *l_tfim.patches, *l_bdg.patches\n",
    "\n",
    "anim = FuncAnimation(fig, animate,\n",
    "                frames = len(sim.simulation_data[LOSCHMIDT_TFIM]), interval = 30, blit = True)\n",
    "\n",
    "anim.save(f\"simulations/quench.mp4\", writer=FFwriter)"
   ]
  }
 ],
 "metadata": {
  "kernelspec": {
   "display_name": ".venv",
   "language": "python",
   "name": "python3"
  },
  "language_info": {
   "codemirror_mode": {
    "name": "ipython",
    "version": 3
   },
   "file_extension": ".py",
   "mimetype": "text/x-python",
   "name": "python",
   "nbconvert_exporter": "python",
   "pygments_lexer": "ipython3",
   "version": "3.12.10"
  }
 },
 "nbformat": 4,
 "nbformat_minor": 5
}
