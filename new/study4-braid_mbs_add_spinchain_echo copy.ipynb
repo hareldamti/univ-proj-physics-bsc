{
 "cells": [
  {
   "cell_type": "code",
   "execution_count": 27,
   "id": "1af51b37",
   "metadata": {},
   "outputs": [],
   "source": [
    "import matplotlib.pyplot as plt\n",
    "import numpy as np\n",
    "import scipy as sp\n",
    "from matplotlib.animation import FuncAnimation, FFMpegWriter\n",
    "from matplotlib import rc\n",
    "from matplotlib.colors import LinearSegmentedColormap as colormap\n",
    "from IPython.display import HTML\n",
    "import math\n",
    "import os, sys\n",
    "sys.path.append(os.path.relpath(\"../src\"))\n",
    "from kitaev_chain import kitaev_chain_model, quench_simulation, U\n",
    "FFwriter=FFMpegWriter(fps=30, extra_args=['-vcodec', 'libx264'])\n",
    "from utils import intersections, to_n, s0, sx, sy, sz, maj_ordered, tensor_product, canon_eigen, expm, c, zero, LOSCHMIDT_BDG, LOSCHMIDT_TFIM, STATES"
   ]
  },
  {
   "cell_type": "code",
   "execution_count": 28,
   "id": "f21710df",
   "metadata": {},
   "outputs": [],
   "source": [
    "def fermion_chain_from_spin_chain_params_parrallel_field(n_sites, J, h_z, h_edges_x):\n",
    "    n = n_sites + 2\n",
    "    mu = np.ones(n) * h_z; mu[0] = mu[-1] = 0\n",
    "    t = np.ones(n - 1) * J; t[0] = t[-1] = h_edges_x\n",
    "    t *= .5\n",
    "    delta = -t\n",
    "    return kitaev_chain_model(n, mu, t, delta, True)\n",
    "def fermion_chain_from_spin_chain_params(n, J, h_z, h_edges_x):\n",
    "    mu = np.ones(n) * h_z\n",
    "    t = np.ones(n - 1) * J\n",
    "    t *= .5\n",
    "    delta = -t\n",
    "    return kitaev_chain_model(n, mu, t, delta, False)"
   ]
  },
  {
   "cell_type": "code",
   "execution_count": 29,
   "id": "a5d9e4fd",
   "metadata": {},
   "outputs": [],
   "source": [
    "n_sites = 7\n",
    "n = n_sites + 2\n",
    "H0 = fermion_chain_from_spin_chain_params_parrallel_field(n_sites, J=1, h_z=1, h_edges_x=100)\n",
    "H = fermion_chain_from_spin_chain_params_parrallel_field(n_sites, J=1, h_z=1, h_edges_x=1e-3)\n",
    "H0.bdg_eigen()"
   ]
  },
  {
   "cell_type": "code",
   "execution_count": 30,
   "id": "91125a38",
   "metadata": {},
   "outputs": [
    {
     "name": "stdout",
     "output_type": "stream",
     "text": [
      "Highest energies : 50.002500, 50.002500\n"
     ]
    },
    {
     "data": {
      "image/png": "[encoded data removed]",
      "text/plain": [
       "<Figure size 1000x400 with 1 Axes>"
      ]
     },
     "metadata": {},
     "output_type": "display_data"
    }
   ],
   "source": [
    "plt.gcf().set_size_inches((10, 4))\n",
    "line = H0.bdg_evecs_sorted.T[n - 1]\n",
    "plt.plot(np.abs(maj_ordered(line)[2: -2]), color='red', label=\"$|\\\\psi_{N + 2}\\\\rangle$\")\n",
    "line = H0.bdg_evecs_sorted.T[n - 2]\n",
    "plt.plot(np.abs(maj_ordered(line)[2: -2]), color='blue', label=\"$|\\\\psi_{N + 1}\\\\rangle$\")\n",
    "plt.xticks(range(2 * (n - 2)))\n",
    "plt.xlabel(\"$|\\\\gamma_{i}|\\\\rangle$\")\n",
    "plt.ylabel(\"$|\\\\langle \\\\gamma_{i}|\\\\psi\\\\rangle|$\")\n",
    "plt.title(\"High energy MBSs\")\n",
    "plt.legend()\n",
    "plt.grid()\n",
    "print(f\"Highest energies : {H0.bdg_evals_sorted[n - 1]:3f}, {H0.bdg_evals_sorted[n - 2]:3f}\")"
   ]
  },
  {
   "cell_type": "code",
   "execution_count": null,
   "id": "0238d0a5",
   "metadata": {},
   "outputs": [],
   "source": [
    "sim = quench_simulation(H0, H, True)\n",
    "dt = n_sites / 5\n",
    "T = n_sites * 9\n",
    "sim.fill_sim(dt, 3 * T)\n",
    "plt.plot(np.arange(0, 3 * T, dt), sim.simulation_data[LOSCHMIDT_BDG], label=\"L_bdg\")\n",
    "plt.plot(np.arange(0, 3 * T, dt), sim.simulation_data[LOSCHMIDT_TFIM], label=\"L_tfim\")\n",
    "plt.legend()\n",
    "plt.grid()\n",
    "\n"
   ]
  },
  {
   "cell_type": "code",
   "execution_count": 10,
   "id": "ad0d1dc4",
   "metadata": {},
   "outputs": [],
   "source": [
    "if False:\n",
    "    fig, (ax1, ax2) = plt.subplots(1, 2, gridspec_kw={'width_ratios': [8, 1]})\n",
    "    fig.set_size_inches((12, 5))\n",
    "    plots = []\n",
    "\n",
    "    ax1.set_title(\"BdG states composition\")\n",
    "    ax1.set_xlabel(\"$\\\\gamma_{i}$\")\n",
    "    ax1.set_xlim(-.5, 2 * (n - 2) - .5)\n",
    "    ax1.set_xticks(range(2 * (n - 2)))\n",
    "    ax1.set_ylim(-.01, .2)\n",
    "\n",
    "    ax2.set_title(\"Loschmidt\\nAmplitude\")\n",
    "    ax2.set_ylim(0,1.19)\n",
    "\n",
    "    maj_idxs = [n - 2, n - 1, 2 * n - 2, 2 * n - 1]\n",
    "    colors = ['blue', 'red', 'green', 'orange']\n",
    "\n",
    "    for i in range(4):\n",
    "        maj_idx = maj_idxs[i]\n",
    "        energy = sim.H0.bdg_evals_sorted[maj_idx]\n",
    "        state = sim.simulation_data[STATES][0].T[maj_idx]\n",
    "        plots.append(\n",
    "            ax1.plot(range(2 * (n - 2)),\n",
    "            np.abs(maj_ordered(state)[2:-2]) ** 2,\n",
    "            label=f'$\\\\gamma_{i + 1}$')[0]\n",
    "            )\n",
    "    l_tfim = ax2.bar(0.25, sim.simulation_data[LOSCHMIDT_TFIM][0], 0.5, label='TFIM')\n",
    "    l_bdg = ax2.bar(0.75, sim.simulation_data[LOSCHMIDT_BDG][0], 0.5, label='BdG')\n",
    "    ax1.legend()\n",
    "    ax2.legend()\n",
    "\n",
    "    def init(): return *plots, *l_tfim.patches, *l_bdg.patches\n",
    "\n",
    "    \n",
    "\n",
    "    def animate(frame):\n",
    "        for i in range(4):\n",
    "            plots[i].set_data(range(2 * (n - 2)), np.abs(maj_ordered(sim.simulation_data[STATES][frame][:, (maj_idxs[i])])[2:-2] ** 2))\n",
    "        l_tfim.patches[0].set_height(sim.simulation_data[LOSCHMIDT_TFIM][frame])\n",
    "        l_bdg.patches[0].set_height(sim.simulation_data[LOSCHMIDT_BDG][frame])\n",
    "        return *plots, *l_tfim.patches, *l_bdg.patches\n",
    "\n",
    "    anim = FuncAnimation(fig, animate,\n",
    "                    frames = len(sim.simulation_data[LOSCHMIDT_TFIM]), interval = 30, blit = True)\n",
    "\n",
    "    anim.save(f\"../simulations/quench1.mp4\", writer=FFwriter)"
   ]
  }
 ],
 "metadata": {
  "kernelspec": {
   "display_name": ".venv (3.12.8)",
   "language": "python",
   "name": "python3"
  },
  "language_info": {
   "codemirror_mode": {
    "name": "ipython",
    "version": 3
   },
   "file_extension": ".py",
   "mimetype": "text/x-python",
   "name": "python",
   "nbconvert_exporter": "python",
   "pygments_lexer": "ipython3",
   "version": "3.12.10"
  }
 },
 "nbformat": 4,
 "nbformat_minor": 5
}
