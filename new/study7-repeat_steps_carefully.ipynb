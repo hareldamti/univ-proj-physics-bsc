{
 "cells": [
  {
   "cell_type": "code",
   "execution_count": null,
   "id": "1af51b37",
   "metadata": {},
   "outputs": [],
   "source": [
    "import matplotlib.pyplot as plt\n",
    "import numpy as np\n",
    "import scipy as sp\n",
    "from matplotlib.animation import FuncAnimation, FFMpegWriter\n",
    "from matplotlib import rc\n",
    "from matplotlib.colors import LinearSegmentedColormap as colormap\n",
    "from IPython.display import HTML\n",
    "import math\n",
    "import os, sys\n",
    "from functools import reduce\n",
    "import operator\n",
    "sys.path.append(os.path.relpath(\"../src\"))\n",
    "from kitaev_chain import kitaev_chain_model, quench_simulation, U\n",
    "FFwriter=FFMpegWriter(fps=30, extra_args=['-vcodec', 'libx264'])\n",
    "from utils import intersections, to_n, s0, sx, sy, sz, maj_ordered, tensor_product, canon_eigen, expm, c, zero, LOSCHMIDT_BDG, LOSCHMIDT_TFIM, STATES, plot_complex_matrix, gamma_n"
   ]
  },
  {
   "cell_type": "code",
   "execution_count": null,
   "id": "f21710df",
   "metadata": {},
   "outputs": [],
   "source": [
    "def fermion_chain_from_spin_chain_params_parrallel_field(n_sites, J, h_z, h_edges_x):\n",
    "    n = n_sites + 2\n",
    "    mu = np.ones(n) * h_z; mu[0] = mu[-1] = 0\n",
    "    t = np.ones(n - 1) * J; t[0] = t[-1] = h_edges_x\n",
    "    t *= .5\n",
    "    delta = -t\n",
    "    return kitaev_chain_model(n, mu, t, delta, True)\n",
    "def fermion_chain_from_spin_chain_params(n, J, h_z, h_edges_x):\n",
    "    mu = np.ones(n) * h_z\n",
    "    t = np.ones(n - 1) * J\n",
    "    t *= .5\n",
    "    delta = -t\n",
    "    return kitaev_chain_model(n, mu, t, delta, False)\n",
    "\n",
    "def are_bdg_conj(state1, state2):\n",
    "    l = len(state1) // 2\n",
    "    return np.allclose(np.abs(state1[[list(range(l, 2 * l)) + list(range(l))]] @ state2), np.ones(1))\n"
   ]
  },
  {
   "cell_type": "code",
   "execution_count": null,
   "id": "3f768fe6",
   "metadata": {},
   "outputs": [],
   "source": [
    "np.ones(5)[[1,2,3]]"
   ]
  },
  {
   "cell_type": "code",
   "execution_count": null,
   "id": "12f66e9e",
   "metadata": {},
   "outputs": [],
   "source": [
    "n = 40\n",
    "m = n + 2\n",
    "H0 = fermion_chain_from_spin_chain_params_parrallel_field(n, 1, 1, h_edges_x=200)\n",
    "H = fermion_chain_from_spin_chain_params_parrallel_field(n, 1, 1, h_edges_x=0)\n",
    "H0.bdg_eigen()\n",
    "H.bdg_eigen()\n",
    "u = U(H)\n",
    "G_D = gamma_n(m).conj().T\n",
    "[i for (i, v) in enumerate([are_bdg_conj(H0.bdg_evecs_sorted[:, i], H0.bdg_evecs_sorted[:, i + m]) for i in range(m)]) if not v]"
   ]
  },
  {
   "cell_type": "code",
   "execution_count": null,
   "id": "07c5efc3",
   "metadata": {},
   "outputs": [],
   "source": [
    "high_energy_states = H0.bdg_evecs_sorted[:,[m - 2, m - 1, 2 * m - 2,2 * m - 1]]\n",
    "if are_bdg_conj(H0.bdg_evecs_sorted[:, m - 2], H0.bdg_evecs_sorted[:, 2 * m - 1]):\n",
    "    high_energy_states = H0.bdg_evecs_sorted[:,[m - 1, m - 2, 2 * m - 2,2 * m - 1]]"
   ]
  },
  {
   "cell_type": "code",
   "execution_count": null,
   "id": "2b688de9",
   "metadata": {},
   "outputs": [],
   "source": [
    "\n",
    "high_energy_maj = 0.5 ** 0.5 * np.hstack(\n",
    "    [high_energy_states[:, :2] + high_energy_states[:, 2:],\n",
    "     1j * (high_energy_states[:, :2] - high_energy_states[:, 2:])])\n",
    "plt.gcf().set_size_inches((5,2))\n",
    "for line in (G_D@(high_energy_maj)).T:\n",
    "    plt.plot(np.abs(line))\n"
   ]
  },
  {
   "cell_type": "code",
   "execution_count": null,
   "id": "d2df8e12",
   "metadata": {},
   "outputs": [],
   "source": [
    "cycle = 2.1 * m\n",
    "duration = 5 * cycle\n",
    "dt = m / 20\n",
    "t_range = np.arange(0, duration, dt)\n",
    "gamma_sim = [\n",
    "    np.vstack([G_D@(u(t) @\n",
    "                    maj\n",
    "                    ) for t in t_range]).T\n",
    "for maj in high_energy_maj.T\n",
    "]\n",
    "loschmidt_sim = np.array([np.abs(\n",
    "            np.linalg.det(\n",
    "                H0.bdg_evecs_sorted[:, :m].T.conj() @ u(t) @ H0.bdg_evecs_sorted[:, :m]\n",
    "                )\n",
    "            ) for t in t_range])\n"
   ]
  },
  {
   "cell_type": "code",
   "execution_count": null,
   "id": "63cf1d48",
   "metadata": {},
   "outputs": [],
   "source": [
    "color = np.array([\n",
    "    [0, 0.5, 1],\n",
    "    [1, 0, 0],\n",
    "    [0, 1, 0],\n",
    "    [1, 0.7, 0]\n",
    "    ])\n",
    "\n",
    "image = np.permute_dims(\n",
    "    (\n",
    "        reduce(\n",
    "            operator.mul,\n",
    "               [\n",
    "                   np.ones((3, *tuple(np.shape(gamma_sim[i])))) -\n",
    "                   np.kron(\n",
    "                       (np.ones(3) - color[i]).reshape((3, 1, 1)),\n",
    "                       np.abs(gamma_sim[i])\n",
    "                    )\n",
    "                    for i in range(4)])),\n",
    "    (1,2,0))\n",
    "\n",
    "image_sum = np.permute_dims(\n",
    "    sum(\n",
    "        np.kron(color[i].reshape((3, 1, 1)),np.abs(gamma_sim[i]))\n",
    "        for i in range(4)\n",
    "    )\n",
    ", (1,2,0))"
   ]
  },
  {
   "cell_type": "code",
   "execution_count": null,
   "id": "c643c3ff",
   "metadata": {},
   "outputs": [],
   "source": [
    "fig, (ax1, ax2) = plt.subplots(2, 1, sharex=True)\n",
    "\n",
    "# map image columns to the t_range x-coordinates\n",
    "xmin, xmax = t_range[0], t_range[-1]\n",
    "ax1.imshow(image, aspect='auto', interpolation='nearest', extent=(xmin, xmax, 0, image.shape[0]), origin='upper')\n",
    "\n",
    "# plot with the same x coordinates\n",
    "ax2.plot(t_range, np.abs(loschmidt_sim))\n",
    "\n",
    "# ensure both axes use the same x-limits\n",
    "ax2.set_xlim(xmin, xmax)"
   ]
  }
 ],
 "metadata": {
  "kernelspec": {
   "display_name": ".venv (3.12.8)",
   "language": "python",
   "name": "python3"
  },
  "language_info": {
   "codemirror_mode": {
    "name": "ipython",
    "version": 3
   },
   "file_extension": ".py",
   "mimetype": "text/x-python",
   "name": "python",
   "nbconvert_exporter": "python",
   "pygments_lexer": "ipython3",
   "version": "3.12.10"
  }
 },
 "nbformat": 4,
 "nbformat_minor": 5
}
