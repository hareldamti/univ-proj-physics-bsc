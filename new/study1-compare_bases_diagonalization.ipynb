{
 "cells": [
  {
   "cell_type": "code",
   "execution_count": 17,
   "id": "90c75e8f",
   "metadata": {},
   "outputs": [],
   "source": [
    "import matplotlib.pyplot as plt\n",
    "import numpy as np\n",
    "import scipy as sp\n",
    "from matplotlib.animation import FuncAnimation, FFMpegWriter\n",
    "from matplotlib import rc\n",
    "from matplotlib.colors import LinearSegmentedColormap as colormap\n",
    "from IPython.display import HTML\n",
    "import math\n",
    "import os, sys\n",
    "sys.path.append(os.path.relpath(\"../src\"))\n",
    "from kitaev_chain import kitaev_chain_model, quench_simulation, U\n",
    "FFwriter=FFMpegWriter(fps=30, extra_args=['-vcodec', 'libx264'])\n",
    "from utils import intersections, to_n, s0, sx, sy, sz, maj_ordered, tensor_product, canon_eigen, expm, c, zero, LOSCHMIDT_BDG, LOSCHMIDT_TFIM, STATES"
   ]
  },
  {
   "cell_type": "code",
   "execution_count": 18,
   "id": "1237b62c",
   "metadata": {},
   "outputs": [],
   "source": [
    "def fermion_chain_from_spin_chain_params_parrallel_field(n_sites, J, h_z, h_edges_x):\n",
    "    n = n_sites + 2\n",
    "    mu = np.ones(n) * h_z; mu[0] = mu[-1] = 0\n",
    "    t = np.ones(n - 1) * J; t[0] = t[-1] = h_edges_x\n",
    "    t *= .5\n",
    "    delta = -t\n",
    "    return kitaev_chain_model(n, mu, t, delta, True)\n",
    "def fermion_chain_from_spin_chain_params(n, J, h_z, h_edges_x):\n",
    "    mu = np.ones(n) * h_z\n",
    "    t = np.ones(n - 1) * J\n",
    "    t *= .5\n",
    "    delta = -t\n",
    "    return kitaev_chain_model(n, mu, t, delta, False)"
   ]
  },
  {
   "cell_type": "code",
   "execution_count": 19,
   "id": "e4d6bf1c",
   "metadata": {},
   "outputs": [],
   "source": [
    "n = 10\n",
    "P = np.zeros((2 * n, 2 * n)).astype(complex)\n",
    "_block = np.ones((2, 2)).astype(complex)\n",
    "_block[0, 1] = 1j\n",
    "_block[1, 1] = -1j\n",
    "for i in range(n):\n",
    "    P[2 * i: 2 * (i + 1), 2 * i: 2 * (i + 1)] = _block\n",
    "P = P[list(range(0, 2 * n, 2)) + list(range(1, 2 * n, 2))] * 0.5 ** 0.5\n",
    "P_dag = P.T.conj()"
   ]
  },
  {
   "cell_type": "code",
   "execution_count": 20,
   "id": "83365b8d",
   "metadata": {},
   "outputs": [
    {
     "name": "stdout",
     "output_type": "stream",
     "text": [
      "True\n",
      "True\n",
      "True\n",
      "True\n"
     ]
    }
   ],
   "source": [
    "H0 = fermion_chain_from_spin_chain_params(n, 1, 0, 0).bdg_hamiltonian()\n",
    "K0 = P_dag @ H0 @ P\n",
    "\n",
    "evals_K, evecs_K = np.linalg.eigh(K0)\n",
    "print(np.allclose(evecs_K @ np.diag(evals_K) @ evecs_K.T.conj() , K0))\n",
    "evecs_K = P @ evecs_K\n",
    "evals_sorted_K, evecs_sorted_K = canon_eigen(evals_K, evecs_K)\n",
    "\n",
    "evals_H, evecs_H = np.linalg.eigh(H0)\n",
    "print(np.allclose(evals_H, evals_K))\n",
    "evals_sorted_H, evecs_sorted_H = canon_eigen(evals_H, evecs_H)\n",
    "\n",
    "print(np.allclose(evecs_H.conj().T @ H0 @ evecs_H, np.diag(evals_H)))\n",
    "print(np.allclose(evecs_K.conj().T @ H0 @ evecs_K, np.diag(evals_H)))"
   ]
  },
  {
   "cell_type": "code",
   "execution_count": 21,
   "id": "896be432",
   "metadata": {},
   "outputs": [
    {
     "data": {
      "image/png": "[encoded data removed]",
      "text/plain": [
       "<Figure size 640x480 with 1 Axes>"
      ]
     },
     "metadata": {},
     "output_type": "display_data"
    }
   ],
   "source": [
    "plt.plot(np.abs((evecs_sorted_K.T @ P)[[0, n]].T), 'r')\n",
    "plt.plot(np.abs((evecs_sorted_H.T @ P)[[0, n]].T), 'b')\n",
    "pass\n"
   ]
  },
  {
   "cell_type": "markdown",
   "id": "89c71397",
   "metadata": {},
   "source": [
    "## After fixing bdg_eigen back the results are the same for majorana basis diagonalization and fermionic basis diagonalization"
   ]
  }
 ],
 "metadata": {
  "kernelspec": {
   "display_name": ".venv (3.12.8)",
   "language": "python",
   "name": "python3"
  },
  "language_info": {
   "codemirror_mode": {
    "name": "ipython",
    "version": 3
   },
   "file_extension": ".py",
   "mimetype": "text/x-python",
   "name": "python",
   "nbconvert_exporter": "python",
   "pygments_lexer": "ipython3",
   "version": "3.12.8"
  }
 },
 "nbformat": 4,
 "nbformat_minor": 5
}
