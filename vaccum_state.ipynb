{
 "cells": [
  {
   "cell_type": "code",
   "execution_count": null,
   "id": "2b1730ac",
   "metadata": {},
   "outputs": [],
   "source": [
    "import matplotlib.pyplot as plt\n",
    "import numpy as np\n",
    "import scipy as sp\n",
    "from matplotlib.animation import FuncAnimation, FFMpegWriter\n",
    "from matplotlib import rc\n",
    "from matplotlib.colors import LinearSegmentedColormap as colormap\n",
    "from IPython.display import HTML\n",
    "import functions as f\n",
    "import os, sys\n",
    "sys.path.append(os.path.relpath(\"./src\"))\n",
    "from kitaev_chain import kitaev_chain_model, quench_simulation_bdg, quench_simulation_tfim\n",
    "from utils import to_n, s0, sx, sy, sz, power_set, tensor_product, canon_eigen, expm"
   ]
  },
  {
   "cell_type": "markdown",
   "id": "16ef5e11",
   "metadata": {},
   "source": [
    "## Find $\\ket{0}$"
   ]
  },
  {
   "cell_type": "code",
   "execution_count": null,
   "id": "10245fd1",
   "metadata": {},
   "outputs": [],
   "source": [
    "def c(i, n, dagger=False):\n",
    "    As = [sz if j < i else 0.5 * (sx + (1 if dagger else -1) * 1j * sy) if j == i else s0 for j in range(n)]\n",
    "    return tensor_product(As)\n"
   ]
  },
  {
   "cell_type": "markdown",
   "id": "b456b0e6",
   "metadata": {},
   "source": [
    "## Find $U, V$"
   ]
  },
  {
   "cell_type": "code",
   "execution_count": null,
   "id": "88e36dc1",
   "metadata": {},
   "outputs": [],
   "source": [
    "k = 1e-2\n",
    "n = 8\n",
    "N = 2 ** n\n",
    "zero = np.zeros((2, 1))\n",
    "zero[1][0] = 1\n",
    "zero = tensor_product([zero] * n)\n",
    "\n",
    "H0 = kitaev_chain_model(n, 0 + k, 1 - k, 1).bdg_hamiltonian()\n",
    "evals, evecs = np.linalg.eigh(H0)\n",
    "evals_sorted, evecs_sorted = canon_eigen(evals, evecs)\n",
    "\n",
    "P = evecs_sorted.T\n",
    "np.allclose(evecs_sorted @ np.diag(evals_sorted) @ evecs_sorted.T, H0) #sanity"
   ]
  },
  {
   "cell_type": "code",
   "execution_count": null,
   "id": "34329617",
   "metadata": {},
   "outputs": [],
   "source": [
    "plt.plot(evals_sorted, '*')"
   ]
  },
  {
   "cell_type": "code",
   "execution_count": null,
   "id": "cadda99c",
   "metadata": {},
   "outputs": [],
   "source": [
    "U = P[:n, :n]\n",
    "Us = P[n:, n:]\n",
    "V = P[:n, n:]\n",
    "Vs = P[n:, :n]\n",
    "np.allclose(U.T @ V + V.T @ U, U * 0) and np.allclose(U.T @ U + V.T @ V, np.eye(n)) and np.allclose(U, Us.conj()) and np.allclose(V, Vs.conj()) "
   ]
  },
  {
   "cell_type": "code",
   "execution_count": null,
   "id": "8e5dbf08",
   "metadata": {},
   "outputs": [],
   "source": [
    "idx = np.where(evals_sorted > 1e-12)[0][0] # first positive eigenvalue\n",
    "U_prime = U[idx:, idx:]\n",
    "V_prime = V[idx:, idx:]\n",
    "G = -np.linalg.inv(U_prime) @ V_prime\n",
    "A = 0.5 * sum([sum([G[i - idx][j - idx] * c(i, n, True) @ c(j, n, True) for i in range(idx, n)], np.zeros((N, N))) for j in range(idx, n)], np.zeros((N, N)))\n",
    "vac = expm(A, 4) @ zero"
   ]
  },
  {
   "cell_type": "code",
   "execution_count": null,
   "id": "b1d58070",
   "metadata": {},
   "outputs": [],
   "source": [
    "def psi(i, n):\n",
    "    return sum([c(j, n) * U[i][j] + c(j, n, True) * V[i][j] for j in range(n)], np.zeros((N, N)))"
   ]
  },
  {
   "cell_type": "code",
   "execution_count": null,
   "id": "5ad786b7",
   "metadata": {},
   "outputs": [],
   "source": [
    "norms = [np.linalg.norm(psi(i, n) @ vac) for i in range(n)]"
   ]
  },
  {
   "cell_type": "code",
   "execution_count": null,
   "id": "bd464082",
   "metadata": {},
   "outputs": [],
   "source": [
    "plt.plot(norms)\n"
   ]
  },
  {
   "cell_type": "code",
   "execution_count": null,
   "id": "bfb337c5",
   "metadata": {},
   "outputs": [],
   "source": []
  }
 ],
 "metadata": {
  "kernelspec": {
   "display_name": ".venv",
   "language": "python",
   "name": "python3"
  },
  "language_info": {
   "codemirror_mode": {
    "name": "ipython",
    "version": 3
   },
   "file_extension": ".py",
   "mimetype": "text/x-python",
   "name": "python",
   "nbconvert_exporter": "python",
   "pygments_lexer": "ipython3",
   "version": "3.12.10"
  }
 },
 "nbformat": 4,
 "nbformat_minor": 5
}
