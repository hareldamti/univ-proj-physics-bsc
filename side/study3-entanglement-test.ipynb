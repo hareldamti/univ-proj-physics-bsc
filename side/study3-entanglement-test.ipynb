{
 "cells": [
  {
   "cell_type": "code",
   "execution_count": 163,
   "id": "de17be9c",
   "metadata": {},
   "outputs": [
    {
     "name": "stdout",
     "output_type": "stream",
     "text": [
      "Entanglement entropy: 0.28000767177423674\n"
     ]
    },
    {
     "data": {
      "text/plain": [
       "array([-1.11530768e+01, -1.56508288e-15, -3.24649497e-16, -1.18928833e-16,\n",
       "       -3.22571534e-17,  2.38121394e-17,  8.45736924e-17,  2.05698618e-16,\n",
       "        1.01944211e-15,  1.11530768e+01])"
      ]
     },
     "execution_count": 163,
     "metadata": {},
     "output_type": "execute_result"
    }
   ],
   "source": [
    "import numpy as np\n",
    "from scipy.linalg import eigh\n",
    "\n",
    "# Example: correlation matrix for n-site chain (assuming Gamma known)\n",
    "n = 10\n",
    "k = 5  # subsystem size\n",
    "\n",
    "# Example: random real antisymmetric 2n x 2n Gamma\n",
    "A = (np.random.randn(2 * n, 1))\n",
    "Gamma = A - A.T\n",
    "\n",
    "# Subsystem correlation matrix\n",
    "Gamma_A = Gamma[:2*k, :2*k]\n",
    "\n",
    "# Compute eigenvalues\n",
    "eigvals = eigh(1j*Gamma_A, eigvals_only=True)\n",
    "# Keep only positive imaginary parts (nu_j)\n",
    "nu = np.sort(np.abs(np.imag(eigvals)))[::2]\n",
    "nu = np.maximum(np.minimum(nu, 0.99), 0.01)\n",
    "# Entanglement entropy\n",
    "S = - np.sum((nu)*np.log((nu)) + (1-nu)*np.log((1-nu)))\n",
    "print(\"Entanglement entropy:\", S)\n",
    "eigvals\n"
   ]
  }
 ],
 "metadata": {
  "kernelspec": {
   "display_name": ".venv (3.12.8)",
   "language": "python",
   "name": "python3"
  },
  "language_info": {
   "codemirror_mode": {
    "name": "ipython",
    "version": 3
   },
   "file_extension": ".py",
   "mimetype": "text/x-python",
   "name": "python",
   "nbconvert_exporter": "python",
   "pygments_lexer": "ipython3",
   "version": "3.12.8"
  }
 },
 "nbformat": 4,
 "nbformat_minor": 5
}
