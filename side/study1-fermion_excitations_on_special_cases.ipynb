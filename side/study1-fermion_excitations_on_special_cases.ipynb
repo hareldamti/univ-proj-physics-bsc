{
 "cells": [
  {
   "cell_type": "code",
   "execution_count": 2,
   "id": "90c75e8f",
   "metadata": {},
   "outputs": [],
   "source": [
    "import matplotlib.pyplot as plt\n",
    "import numpy as np\n",
    "import scipy as sp\n",
    "from matplotlib.animation import FuncAnimation, FFMpegWriter\n",
    "from matplotlib import rc\n",
    "from matplotlib.colors import LinearSegmentedColormap as colormap\n",
    "from IPython.display import HTML\n",
    "import math\n",
    "import os, sys\n",
    "sys.path.append(os.path.relpath(\"../src\"))\n",
    "from kitaev_chain import kitaev_chain_model, quench_simulation, U\n",
    "FFwriter=FFMpegWriter(fps=30, extra_args=['-vcodec', 'libx264'])\n",
    "from utils import intersections, to_n, s0, sx, sy, sz, maj_ordered, tensor_product, canon_eigen, expm, c, zero, LOSCHMIDT_BDG, LOSCHMIDT_TFIM, STATES"
   ]
  },
  {
   "cell_type": "code",
   "execution_count": 3,
   "id": "1237b62c",
   "metadata": {},
   "outputs": [],
   "source": [
    "def fermion_chain_from_spin_chain_params_parrallel_field(n_sites, J, h_z, h_edges_x):\n",
    "    n = n_sites + 2\n",
    "    mu = np.ones(n) * h_z; mu[0] = mu[-1] = 0\n",
    "    t = np.ones(n - 1) * J; t[0] = t[-1] = h_edges_x\n",
    "    t *= .5\n",
    "    delta = -t\n",
    "    return kitaev_chain_model(n, mu, t, delta, True)\n",
    "def fermion_chain_from_spin_chain_params(n, J, h_z, h_edges_x):\n",
    "    mu = np.ones(n) * h_z\n",
    "    t = np.ones(n - 1) * J\n",
    "    t *= .5\n",
    "    delta = -t\n",
    "    return kitaev_chain_model(n, mu, t, delta, False)"
   ]
  },
  {
   "cell_type": "code",
   "execution_count": 8,
   "id": "482067b8",
   "metadata": {},
   "outputs": [],
   "source": [
    "n = 5\n",
    "P = np.zeros((2 * n, 2 * n)).astype(complex)\n",
    "_block = np.ones((2, 2)).astype(complex)\n",
    "_block[0, 1] = 1j\n",
    "_block[1, 1] = -1j\n",
    "for i in range(n):\n",
    "    P[2 * i: 2 * (i + 1), 2 * i: 2 * (i + 1)] = _block\n",
    "P = P[list(range(0, 2 * n, 2)) + list(range(1, 2 * n, 2))] * 0.5 ** 0.5\n",
    "P_dag = P.T.conj()"
   ]
  },
  {
   "cell_type": "code",
   "execution_count": 21,
   "id": "83365b8d",
   "metadata": {},
   "outputs": [
    {
     "name": "stdout",
     "output_type": "stream",
     "text": [
      "True\n"
     ]
    }
   ],
   "source": [
    "H0 = fermion_chain_from_spin_chain_params(n, 1, 0, 1).bdg_hamiltonian()\n",
    "#H0 = fermion_chain_from_spin_chain_params(n, 0, 1, 1).bdg_hamiltonian()\n",
    "evals_H, evecs_H = np.linalg.eigh(H0)\n",
    "evals_sorted_H, evecs_sorted_H = canon_eigen(evals_H, evecs_H)\n",
    "\n",
    "print(np.allclose(evecs_H.conj().T @ H0 @ evecs_H, np.diag(evals_H)))"
   ]
  },
  {
   "cell_type": "markdown",
   "id": "a39c41bc",
   "metadata": {},
   "source": []
  },
  {
   "cell_type": "code",
   "execution_count": null,
   "id": "168ab154",
   "metadata": {},
   "outputs": [
    {
     "data": {
      "text/plain": [
       "True"
      ]
     },
     "execution_count": 22,
     "metadata": {},
     "output_type": "execute_result"
    }
   ],
   "source": [
    "V1 = np.round(2 ** .5 * (evecs_sorted_H)[:,[0, n]],2)\n",
    "V2 = np.hstack([V1[:,0:1] + 1j * V1[:,1:2], V1[:,0:1] - 1j * V1[:,1:2]])\n",
    "np.allclose(-V2[:,1:2], np.vstack([V2[n:, 0:1], V2[:n, 0:1]])),np.allclose(-V1[:,1:2], np.vstack([V1[n:, 0:1], V1[:n, 0:1]]))\n"
   ]
  },
  {
   "cell_type": "markdown",
   "id": "c49a66f2",
   "metadata": {},
   "source": [
    "# We need to find how to always"
   ]
  }
 ],
 "metadata": {
  "kernelspec": {
   "display_name": ".venv (3.12.8)",
   "language": "python",
   "name": "python3"
  },
  "language_info": {
   "codemirror_mode": {
    "name": "ipython",
    "version": 3
   },
   "file_extension": ".py",
   "mimetype": "text/x-python",
   "name": "python",
   "nbconvert_exporter": "python",
   "pygments_lexer": "ipython3",
   "version": "3.12.8"
  }
 },
 "nbformat": 4,
 "nbformat_minor": 5
}
