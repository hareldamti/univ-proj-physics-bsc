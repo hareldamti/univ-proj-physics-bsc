{
 "cells": [
  {
   "cell_type": "code",
   "execution_count": 1,
   "id": "df26fde0",
   "metadata": {},
   "outputs": [],
   "source": [
    "import matplotlib.pyplot as plt\n",
    "import numpy as np\n",
    "import scipy as sp\n",
    "from matplotlib.animation import FuncAnimation, FFMpegWriter\n",
    "from matplotlib import rc\n",
    "from matplotlib.colors import LinearSegmentedColormap as colormap\n",
    "from IPython.display import HTML\n",
    "import math\n",
    "import os, sys\n",
    "sys.path.append(os.path.relpath(\"../src\"))\n",
    "from kitaev_chain import kitaev_chain_model, quench_simulation, U\n",
    "FFwriter=FFMpegWriter(fps=30, extra_args=['-vcodec', 'libx264'])\n",
    "from utils import intersections, to_n, s0, sx, sy, sz, maj_ordered, tensor_product, canon_eigen, expm, c, zero, LOSCHMIDT_BDG, LOSCHMIDT_TFIM, STATES"
   ]
  },
  {
   "cell_type": "markdown",
   "id": "86b75244",
   "metadata": {},
   "source": [
    "We expect:\n",
    "$B_{23}|00\\rangle = \\frac{1}{\\sqrt{2}}(1+\\gamma_2\\gamma_3) = \\frac{1}{\\sqrt{2}}(1+i(c_1^\\dagger - c_1)(c_2^\\dagger + c_2))\\\\$\n",
    "$B_{23}|00\\rangle^2 = \\gamma_2\\gamma_3 = i(c_1^\\dagger - c_1)(c_2^\\dagger + c_2)\\\\$\n",
    "\n",
    "$B_{23}|00\\rangle = \\frac{1}{\\sqrt{2}}(|00\\rangle + i|11\\rangle) \\\\$\n",
    "$B_{23}|11\\rangle = \\frac{1}{\\sqrt{2}}(|11\\rangle - i|00\\rangle) $\n",
    "\n",
    "$B_{23}^2|00\\rangle = i|11\\rangle = B_{23}\\frac{1}{\\sqrt{2}}(|00\\rangle + i|11\\rangle) = \\frac{1}{2}([|00\\rangle + i|11\\rangle] + i[|11\\rangle - i|00\\rangle]) = |00\\rangle + i|11\\rangle$\n",
    "\n",
    "Let's check:\n",
    "* $B_23$'s eigenvectors, eigenvalues"
   ]
  },
  {
   "cell_type": "code",
   "execution_count": 7,
   "id": "fb111afc",
   "metadata": {},
   "outputs": [],
   "source": [
    "c1 = c(0, 2)\n",
    "c1_d = c(0, 2, True)\n",
    "c2 = c(1, 2)\n",
    "c2_d = c(1, 2, True)\n",
    "\n",
    "gamma_2 = 1j * (c1_d - c1) \n",
    "gamma_3 = c2_d + c2\n",
    "\n",
    "B_23 = .5 ** .5 * (np.eye(4) + gamma_2 @ gamma_3)"
   ]
  },
  {
   "cell_type": "code",
   "execution_count": 22,
   "id": "93e46a5b",
   "metadata": {},
   "outputs": [
    {
     "data": {
      "text/plain": [
       "array([[-0.+0.j, -0.+0.j, -0.+0.j, -0.+0.j],\n",
       "       [-1.+0.j, -0.+0.j, -0.+0.j, -0.+0.j],\n",
       "       [-0.+0.j, -0.+0.j,  0.+0.j,  0.+0.j],\n",
       "       [-0.+0.j, -0.+0.j,  1.+0.j,  0.+0.j]])"
      ]
     },
     "execution_count": 22,
     "metadata": {},
     "output_type": "execute_result"
    }
   ],
   "source": [
    "c2"
   ]
  },
  {
   "cell_type": "code",
   "execution_count": 18,
   "id": "3d296a49",
   "metadata": {},
   "outputs": [
    {
     "data": {
      "text/plain": [
       "array([[0.70710678+0.j        ],\n",
       "       [0.        +0.j        ],\n",
       "       [0.        +0.j        ],\n",
       "       [0.        +0.70710678j]])"
      ]
     },
     "execution_count": 18,
     "metadata": {},
     "output_type": "execute_result"
    }
   ],
   "source": [
    "B_23 @ (B_23 @ B_23 @ zero(2) * (-1j))"
   ]
  },
  {
   "cell_type": "code",
   "execution_count": 9,
   "id": "260f6a18",
   "metadata": {},
   "outputs": [],
   "source": [
    "evals, evecs = np.linalg.eig(B_23)"
   ]
  }
 ],
 "metadata": {
  "kernelspec": {
   "display_name": ".venv (3.12.8)",
   "language": "python",
   "name": "python3"
  },
  "language_info": {
   "codemirror_mode": {
    "name": "ipython",
    "version": 3
   },
   "file_extension": ".py",
   "mimetype": "text/x-python",
   "name": "python",
   "nbconvert_exporter": "python",
   "pygments_lexer": "ipython3",
   "version": "3.12.8"
  }
 },
 "nbformat": 4,
 "nbformat_minor": 5
}
