{
 "cells": [
  {
   "cell_type": "code",
   "execution_count": null,
   "id": "2b1730ac",
   "metadata": {},
   "outputs": [],
   "source": [
    "import matplotlib.pyplot as plt\n",
    "import numpy as np\n",
    "import scipy as sp\n",
    "from matplotlib.animation import FuncAnimation, FFMpegWriter\n",
    "from matplotlib import rc\n",
    "from matplotlib.colors import LinearSegmentedColormap as colormap\n",
    "from IPython.display import HTML\n",
    "import functions as f\n",
    "import os, sys\n",
    "sys.path.append(os.path.relpath(\"./src\"))\n",
    "from kitaev_chain import kitaev_chain_model, quench_simulation_bdg, quench_simulation_tfim\n",
    "from utils import to_n, s0, sx, sy, sz, power_set, tensor_product, canon_eigen, expm"
   ]
  },
  {
   "cell_type": "code",
   "execution_count": null,
   "id": "10245fd1",
   "metadata": {},
   "outputs": [],
   "source": [
    "def c(i, n, dagger=False):\n",
    "    As = [sz if j < i else 0.5 * (sx + (1 if dagger else -1) * 1j * sy) if j == i else s0 for j in range(n)]\n",
    "    return tensor_product(As)"
   ]
  },
  {
   "cell_type": "markdown",
   "id": "b456b0e6",
   "metadata": {},
   "source": [
    "## Find $U, V$"
   ]
  },
  {
   "cell_type": "code",
   "execution_count": null,
   "id": "88e36dc1",
   "metadata": {},
   "outputs": [],
   "source": [
    "k = 0.01 # TODO: Another fix - change to the antisymmetric majorana basis matrix\n",
    "n = 4\n",
    "N = 2 ** n\n",
    "zero = np.zeros((2, 1))\n",
    "zero[1][0] = 1\n",
    "zero = tensor_product([zero] * n)\n",
    "\n",
    "H = kitaev_chain_model(n, 0 + k, 1 - k, 1)\n",
    "H = kitaev_chain_model(n, 1, 2, 3)\n",
    "H0 = H.bdg_hamiltonian()\n",
    "H0_comp = H.tfim_hamiltonian()\n",
    "evals, evecs = np.linalg.eigh(H0)\n",
    "evals_sorted, evecs_sorted = canon_eigen(evals, evecs)\n",
    "\n",
    "P = evecs_sorted.T\n",
    "np.allclose(evecs_sorted @ np.diag(evals_sorted) @ evecs_sorted.T, H0) #sanity"
   ]
  },
  {
   "cell_type": "code",
   "execution_count": null,
   "id": "cadda99c",
   "metadata": {},
   "outputs": [],
   "source": [
    "U = P[:n, :n]\n",
    "Us = P[n:, n:]\n",
    "V = P[:n, n:]\n",
    "Vs = P[n:, :n]\n",
    "def psi(i, n, dagger=False):\n",
    "    r = sum([c(j, n, dagger) * U[i, j] + c(j, n, not dagger) * V[i, j] for j in range(n)], np.zeros((N, N)))\n",
    "    return r.conj() if dagger else r\n",
    "np.allclose(U.T @ V + V.T @ U, U * 0) and np.allclose(U.T @ U + V.T @ V, np.eye(n)) and np.allclose(U, Us.conj()) and np.allclose(V, Vs.conj()) "
   ]
  },
  {
   "cell_type": "code",
   "execution_count": null,
   "id": "8e5dbf08",
   "metadata": {},
   "outputs": [],
   "source": [
    "idx = np.where(evals_sorted > k)[0][0] # first positive eigenvalue\n",
    "U_prime = U[idx:, idx:]\n",
    "V_prime = V[idx:, idx:]\n",
    "G = -np.linalg.inv(U_prime) @ V_prime\n",
    "A = 0.5 * sum([sum([G[i - idx][j - idx] * c(i, n, True) @ c(j, n, True) for i in range(idx, n)], np.zeros((N, N))) for j in range(idx, n)], np.zeros((N, N)))\n",
    "vac = expm(A, 4) @ zero\n",
    "vac *= 1.0 / np.linalg.norm(vac)"
   ]
  },
  {
   "cell_type": "code",
   "execution_count": null,
   "id": "b8bb72a0",
   "metadata": {},
   "outputs": [],
   "source": []
  },
  {
   "cell_type": "markdown",
   "id": "1439b281",
   "metadata": {},
   "source": [
    "## Checking whether $\\^{\\psi}^{\\dagger}_{i}\\^{\\psi}_{i} \\^{\\psi}^{\\dagger}_{j}\\ket{vac} = \\delta^{j}_{i}\\ket{vac}$"
   ]
  },
  {
   "cell_type": "code",
   "execution_count": null,
   "id": "ca126cae",
   "metadata": {},
   "outputs": [],
   "source": [
    "plt.plot([np.abs(np.linalg.norm(psi(i, n) @ vac)) for i in range(n)])"
   ]
  },
  {
   "cell_type": "code",
   "execution_count": null,
   "id": "754f6f52",
   "metadata": {},
   "outputs": [],
   "source": [
    "id = np.zeros((n, n)).astype(np.float64)\n",
    "for i in range(n):\n",
    "    for j in range(n):\n",
    "        a = psi(j, n, dagger=True) @ vac\n",
    "        b = psi(i, n, dagger=True) @ psi(i, n) @ a\n",
    "        id[i, j] = np.linalg.norm(np.abs(np.dot(a.flatten(), b)))\n",
    "plt.imshow(np.abs(id), cmap='gray')\n",
    "plt.colorbar()"
   ]
  },
  {
   "cell_type": "code",
   "execution_count": null,
   "id": "5ad786b7",
   "metadata": {},
   "outputs": [],
   "source": [
    "np.linalg.norm(np.array([psi(i, n) @ vac for i in range(n)]))"
   ]
  },
  {
   "cell_type": "code",
   "execution_count": null,
   "id": "7963176d",
   "metadata": {},
   "outputs": [],
   "source": []
  },
  {
   "cell_type": "markdown",
   "id": "058ef764",
   "metadata": {},
   "source": [
    "## Checking whether $\\^H_{tfim}\\^{\\psi}^{\\dagger}_{j}\\ket{vac} = 2E_{j}\\^{\\psi}^{\\dagger}_{j}\\ket{vac}$"
   ]
  },
  {
   "cell_type": "code",
   "execution_count": null,
   "id": "aa643a8c",
   "metadata": {},
   "outputs": [],
   "source": [
    "subsets = [[i for i in range(n) if l[i]] for l in power_set(n)]\n",
    "states = []\n",
    "for subset in subsets:\n",
    "    psi_ = vac\n",
    "    for i in subset:\n",
    "        psi_ = psi(i, n, dagger=True) @ psi_\n",
    "    states.append(psi_)\n",
    "evals_comp_from_vac = [np.linalg.norm(psi_.T @ H0_comp @ psi_) for psi_ in states]\n",
    "evals_comp, evecs_comp = np.linalg.eigh(H0_comp)\n",
    "plt.plot(sorted(evals_comp_from_vac), label='from vac')\n",
    "plt.plot((sorted(evals_comp) - min(evals_comp)) / 2, label='from diag')\n",
    "plt.legend()"
   ]
  },
  {
   "cell_type": "code",
   "execution_count": null,
   "id": "690e526b",
   "metadata": {},
   "outputs": [],
   "source": [
    "psi_vac = [psi(i, n, dagger=True) @ vac for i in range(n)]\n",
    "evals_vac = np.array([np.abs(psi_.T @ H0_comp @ psi_)[0, 0] for psi_ in psi_vac])\n",
    "plt.plot(evals_sorted[:n], '*', label='from bdg')\n",
    "plt.plot((evals_vac - evals_vac[0]) / 2, '*', label='from vac')\n",
    "plt.legend()"
   ]
  },
  {
   "cell_type": "markdown",
   "id": "e8a4fb8a",
   "metadata": {},
   "source": [
    "# Trying to find $\\ket{vac}$ as an intersection of kernels of $\\ket{\\psi_{i}}$ "
   ]
  },
  {
   "cell_type": "code",
   "execution_count": null,
   "id": "7bd1430d",
   "metadata": {},
   "outputs": [],
   "source": [
    "ftol = 1e-3\n",
    "def intersections(As):\n",
    "    def intersections_(U, V):\n",
    "        M = np.hstack((U, -V))\n",
    "        nullspace = sp.linalg.null_space(M, rcond=ftol)\n",
    "        nullspace_U = nullspace[:np.shape(U)[1]]\n",
    "        inter = U @ nullspace_U\n",
    "        for i in range(np.shape(inter)[1]):\n",
    "            inter[:,i] *= 1./np.linalg.norm(inter[:,i])\n",
    "        return inter\n",
    "    inter = As[0]\n",
    "    for A in As[1:]:\n",
    "        inter = intersections_(inter, A)\n",
    "    return inter"
   ]
  },
  {
   "cell_type": "code",
   "execution_count": null,
   "id": "65142d9a",
   "metadata": {},
   "outputs": [],
   "source": []
  },
  {
   "cell_type": "code",
   "execution_count": null,
   "id": "8bc720da",
   "metadata": {},
   "outputs": [],
   "source": [
    "vacs = intersections([sp.linalg.null_space(psi(i, n), rcond=ftol) for i in range(n)])\n",
    "vacs/np.linalg.norm(vacs)"
   ]
  },
  {
   "cell_type": "code",
   "execution_count": null,
   "id": "ef4c6ff5",
   "metadata": {},
   "outputs": [],
   "source": [
    "id = np.zeros((n, n)).astype(np.float64)\n",
    "for i in range(n):\n",
    "    for j in range(n):\n",
    "        a = psi(j, n, dagger=True) @ vacs\n",
    "        b = psi(i, n, dagger=True) @ psi(i, n) @ a\n",
    "        id[i, j] = np.linalg.norm(np.abs(np.dot(a.flatten(), b)))\n",
    "plt.imshow(np.abs(id), cmap='gray')\n",
    "plt.colorbar()"
   ]
  },
  {
   "cell_type": "code",
   "execution_count": null,
   "id": "104b1f22",
   "metadata": {},
   "outputs": [],
   "source": [
    "subsets = [[i for i in range(n) if l[i]] for l in power_set(n)]\n",
    "states = []\n",
    "for subset in subsets:\n",
    "    psi_ = vacs\n",
    "    for i in subset:\n",
    "        psi_ = psi(i, n, dagger=True) @ psi_\n",
    "    states.append(psi_)\n",
    "evals_comp_from_vac = [np.linalg.norm(psi_.T @ H0_comp @ psi_) for psi_ in states]\n",
    "evals_comp, evecs_comp = np.linalg.eigh(H0_comp)\n",
    "plt.plot(sorted(evals_comp_from_vac), label='from vacs')\n",
    "plt.plot((sorted(evals_comp) - min(evals_comp)) / 2, label='from diag')\n",
    "plt.legend()"
   ]
  },
  {
   "cell_type": "code",
   "execution_count": null,
   "id": "c2821557",
   "metadata": {},
   "outputs": [],
   "source": [
    "psi_vac = [psi(i, n, dagger=True) @ vacs for i in range(n)]\n",
    "evals_vac = np.array([np.abs(psi_.T @ H0_comp @ psi_)[0, 0] for psi_ in psi_vac])\n",
    "plt.plot(evals_sorted[:n], '*', label='from bdg')\n",
    "plt.plot((evals_vac - evals_vac[0]) / 2, '*', label='from vac')\n",
    "plt.legend()"
   ]
  }
 ],
 "metadata": {
  "kernelspec": {
   "display_name": ".venv",
   "language": "python",
   "name": "python3"
  },
  "language_info": {
   "codemirror_mode": {
    "name": "ipython",
    "version": 3
   },
   "file_extension": ".py",
   "mimetype": "text/x-python",
   "name": "python",
   "nbconvert_exporter": "python",
   "pygments_lexer": "ipython3",
   "version": "3.12.8"
  }
 },
 "nbformat": 4,
 "nbformat_minor": 5
}
